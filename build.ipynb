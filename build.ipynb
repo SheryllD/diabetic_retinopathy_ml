{
 "cells": [
  {
   "cell_type": "markdown",
   "id": "08be060b",
   "metadata": {},
   "source": []
  },
  {
   "cell_type": "markdown",
   "id": "4650b121",
   "metadata": {},
   "source": [
    "# Libraries"
   ]
  },
  {
   "cell_type": "code",
   "execution_count": 1,
   "id": "b28c22c8",
   "metadata": {},
   "outputs": [
    {
     "name": "stderr",
     "output_type": "stream",
     "text": [
      "2025-07-10 22:52:29.408577: I tensorflow/core/platform/cpu_feature_guard.cc:210] This TensorFlow binary is optimized to use available CPU instructions in performance-critical operations.\n",
      "To enable the following instructions: AVX2 FMA, in other operations, rebuild TensorFlow with the appropriate compiler flags.\n"
     ]
    }
   ],
   "source": [
    "import pickle\n",
    "import streamlit as st\n",
    "from tensorflow.keras.models import load_model\n",
    "\n",
    "from PIL import Image\n",
    "import cv2\n",
    "import numpy as np\n",
    "import os\n",
    "import random\n",
    "import matplotlib.pyplot as plt"
   ]
  },
  {
   "cell_type": "code",
   "execution_count": 2,
   "id": "384173ab",
   "metadata": {},
   "outputs": [
    {
     "name": "stdout",
     "output_type": "stream",
     "text": [
      "Predicting on random: 7c6594b50690.png\n",
      "True Label: test_images/No_DR\n"
     ]
    },
    {
     "name": "stderr",
     "output_type": "stream",
     "text": [
      "/var/folders/rx/4vz0nngn7_q84td2symm90y40000gn/T/ipykernel_18017/1910804139.py:42: UserWarning: FigureCanvasAgg is non-interactive, and thus cannot be shown\n",
      "  plt.show()\n"
     ]
    },
    {
     "name": "stdout",
     "output_type": "stream",
     "text": [
      "\u001b[1m1/1\u001b[0m \u001b[32m━━━━━━━━━━━━━━━━━━━━\u001b[0m\u001b[37m\u001b[0m \u001b[1m1s\u001b[0m 1s/step\n",
      "Predicted Label: No_DR\n",
      "Prediction is INCORRECT\n"
     ]
    }
   ],
   "source": [
    "# Loading the model\n",
    "model = load_model(\"CNN_model.keras\", compile=False)\n",
    "\n",
    "# def preprocess_image(upload_file): \n",
    "#     image = image.open(upload_file).convert(\"RGB\")\n",
    "#     image = image.resize((224, 224))\n",
    "#     image = np.array(image) / 255.0\n",
    "#     image = np.expand_dims(image, axis=0)\n",
    "#     return image\n",
    "\n",
    "def predict_class_random_drom_dir(directory_path): \n",
    "    if not os.path.exists(directory_path):\n",
    "        print(f\"Error: Directory not found at {directory_path}\")\n",
    "        return \n",
    "    \n",
    "    image_files = [f for f in os.listdir(directory_path) if os.path.isfile(os.path.join(directory_path, f))]\n",
    "\n",
    "    if not image_files:\n",
    "        print(f\" Error: No image files found in {directory_path}\")\n",
    "        return\n",
    "    \n",
    "    # Select randomlly an image \n",
    "    selected_image_file = random.choice(image_files)\n",
    "    path = os.path.join(directory_path, selected_image_file)\n",
    "    print(f\"Predicting on random: {selected_image_file}\")\n",
    "\n",
    "    # True label is based on the folder name \n",
    "    true_class = os.path.join(directory_path)\n",
    "    print(f\"True Label: {true_class}\")\n",
    "    \n",
    "    try:\n",
    "        img = Image.open(path).convert(\"RGB\")\n",
    "    except Exception as e:\n",
    "        print(f\"Error in loading the image: {e}\")\n",
    "        return \n",
    "    \n",
    "    # Processed image \n",
    "    img = img.resize((224, 224))\n",
    "    plt.imshow(img)\n",
    "    plt.axis(\"off\")\n",
    "    plt.title(\"Selected Image\")\n",
    "    plt.show()\n",
    "\n",
    "    image_array = np.array(img) / 255.0\n",
    "    image_array = np.expand_dims(image_array, axis=0)\n",
    "\n",
    "    # Predict \n",
    "    prediction = model.predict(image_array)\n",
    "    predicted_index = np.argmax(prediction, axis=1)[0]\n",
    "    predicted_class = \"DR\" if predicted_index == 0 else \"No_DR\"\n",
    "    print(f\"Predicted Label: {predicted_class}\")\n",
    "\n",
    "    # Compare\n",
    "    if true_class == predicted_class:\n",
    "        print(\"Prediction is CORRECT\")\n",
    "    else:\n",
    "        print(\"Prediction is INCORRECT\")\n",
    "\n",
    "# Using on random images \n",
    "test_directories = [\"test_images/DR\", \"test_images/No_DR\"]\n",
    "selected_directory = random.choice(test_directories)\n",
    "predict_class_random_drom_dir(selected_directory)"
   ]
  }
 ],
 "metadata": {
  "kernelspec": {
   "display_name": "base",
   "language": "python",
   "name": "python3"
  },
  "language_info": {
   "codemirror_mode": {
    "name": "ipython",
    "version": 3
   },
   "file_extension": ".py",
   "mimetype": "text/x-python",
   "name": "python",
   "nbconvert_exporter": "python",
   "pygments_lexer": "ipython3",
   "version": "3.12.2"
  }
 },
 "nbformat": 4,
 "nbformat_minor": 5
}
